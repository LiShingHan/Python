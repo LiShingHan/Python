{
  "nbformat": 4,
  "nbformat_minor": 0,
  "metadata": {
    "colab": {
      "name": "Day1.ipynb",
      "provenance": [],
      "collapsed_sections": [],
      "toc_visible": true,
      "authorship_tag": "ABX9TyMDqeQEGrpYHGfwaufg6iWs",
      "include_colab_link": true
    },
    "kernelspec": {
      "name": "python3",
      "display_name": "Python 3"
    },
    "language_info": {
      "name": "python"
    }
  },
  "cells": [
    {
      "cell_type": "markdown",
      "metadata": {
        "id": "view-in-github",
        "colab_type": "text"
      },
      "source": [
        "<a href=\"https://colab.research.google.com/github/LiShingHan/Python/blob/main/Day1.ipynb\" target=\"_parent\"><img src=\"https://colab.research.google.com/assets/colab-badge.svg\" alt=\"Open In Colab\"/></a>"
      ]
    },
    {
      "cell_type": "markdown",
      "source": [
        "### 擲骰子遊戲"
      ],
      "metadata": {
        "id": "sdVgSxNV-yFu"
      }
    },
    {
      "cell_type": "code",
      "source": [
        "# 擲骰子遊戲\n",
        "import random as r\n",
        "\n",
        "while True:\n",
        "  inkey=input(\"請輸入任意鍵再按【Enter】鍵擲骰子，直接按【Enter】鍵結束:\")\n",
        "  if inkey=='':\n",
        "    print(\"結束遊戲!\")\n",
        "    breakh\n",
        "  else:\n",
        "    num = r.randint(1,6)\n",
        "    print(\"你擲的骰子點數為：\" + str(num))\n"
      ],
      "metadata": {
        "colab": {
          "base_uri": "https://localhost:8080/"
        },
        "id": "etQ5DBlA9V_d",
        "outputId": "391ef2d6-62a8-488e-a2a7-2ee6a59dee2f"
      },
      "execution_count": 4,
      "outputs": [
        {
          "output_type": "stream",
          "name": "stdout",
          "text": [
            "請輸入任意鍵再按【Enter】鍵擲骰子，直接按【Enter】鍵結束:d\n",
            "你擲的骰子點數為：3\n",
            "請輸入任意鍵再按【Enter】鍵擲骰子，直接按【Enter】鍵結束:d\n",
            "你擲的骰子點數為：4\n",
            "請輸入任意鍵再按【Enter】鍵擲骰子，直接按【Enter】鍵結束:a\n",
            "你擲的骰子點數為：1\n",
            "請輸入任意鍵再按【Enter】鍵擲骰子，直接按【Enter】鍵結束:f\n",
            "你擲的骰子點數為：1\n",
            "請輸入任意鍵再按【Enter】鍵擲骰子，直接按【Enter】鍵結束:\n",
            "結束遊戲!\n"
          ]
        }
      ]
    },
    {
      "cell_type": "markdown",
      "source": [
        "### 練習：用特殊符號擲骰子"
      ],
      "metadata": {
        "id": "VCB_x0k_-rZx"
      }
    },
    {
      "cell_type": "code",
      "source": [
        "import random as r\n",
        "\n",
        "str1 = '⚀⚁⚂⚃⚄⚅'\n",
        "while True:\n",
        "  inkey=input(\"請輸入任意鍵再按【Enter】鍵擲骰子，直接按【Enter】鍵結束:\")\n",
        "  if inkey=='':\n",
        "    print(\"結束遊戲!\")\n",
        "    break\n",
        "  else:\n",
        "    num = r.randint(1,6)\n",
        "    print(\"你擲的骰子點數為：\" + str1[num-1])"
      ],
      "metadata": {
        "colab": {
          "base_uri": "https://localhost:8080/"
        },
        "id": "xgzgzoi89WUD",
        "outputId": "3954acc3-0359-4470-b7fa-5dfde4e6ad03"
      },
      "execution_count": 5,
      "outputs": [
        {
          "output_type": "stream",
          "name": "stdout",
          "text": [
            "請輸入任意鍵再按【Enter】鍵擲骰子，直接按【Enter】鍵結束:w\n",
            "你擲的骰子點數為：⚄\n",
            "請輸入任意鍵再按【Enter】鍵擲骰子，直接按【Enter】鍵結束:\n",
            "結束遊戲!\n"
          ]
        }
      ]
    }
  ]
}