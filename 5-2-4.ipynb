{
  "nbformat": 4,
  "nbformat_minor": 0,
  "metadata": {
    "colab": {
      "provenance": [],
      "authorship_tag": "ABX9TyN6rDbI9tZ0gATV2w9lS0rf",
      "include_colab_link": true
    },
    "kernelspec": {
      "name": "python3",
      "display_name": "Python 3"
    },
    "language_info": {
      "name": "python"
    }
  },
  "cells": [
    {
      "cell_type": "markdown",
      "metadata": {
        "id": "view-in-github",
        "colab_type": "text"
      },
      "source": [
        "<a href=\"https://colab.research.google.com/github/LiShingHan/DataScience/blob/main/5-2-4.ipynb\" target=\"_parent\"><img src=\"https://colab.research.google.com/assets/colab-badge.svg\" alt=\"Open In Colab\"/></a>"
      ]
    },
    {
      "cell_type": "code",
      "execution_count": 2,
      "metadata": {
        "colab": {
          "base_uri": "https://localhost:8080/"
        },
        "id": "tOmgHlY0116Q",
        "outputId": "12b6d2cf-729e-4fc6-c2ff-abd2825e365d"
      },
      "outputs": [
        {
          "output_type": "stream",
          "name": "stdout",
          "text": [
            "請輸入一個整數？34\n",
            "34 不是質數\n"
          ]
        }
      ],
      "source": [
        "num = int(input('請輸入一個整數？'))\n",
        "j = 2\n",
        "prime = True\n",
        "while j < num:\n",
        "    if (num%j == 0):\n",
        "        prime = False\n",
        "        break\n",
        "    j += 1\n",
        "if prime:\n",
        "    print(num, '是質數')\n",
        "else:\n",
        "    print(num, '不是質數')"
      ]
    }
  ]
}