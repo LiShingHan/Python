{
  "nbformat": 4,
  "nbformat_minor": 0,
  "metadata": {
    "colab": {
      "provenance": [],
      "authorship_tag": "ABX9TyOoZBHPHM9EuJAipuXppH6s",
      "include_colab_link": true
    },
    "kernelspec": {
      "name": "python3",
      "display_name": "Python 3"
    },
    "language_info": {
      "name": "python"
    }
  },
  "cells": [
    {
      "cell_type": "markdown",
      "metadata": {
        "id": "view-in-github",
        "colab_type": "text"
      },
      "source": [
        "<a href=\"https://colab.research.google.com/github/LiShingHan/Python/blob/main/5-2-1.ipynb\" target=\"_parent\"><img src=\"https://colab.research.google.com/assets/colab-badge.svg\" alt=\"Open In Colab\"/></a>"
      ]
    },
    {
      "cell_type": "code",
      "execution_count": 1,
      "metadata": {
        "colab": {
          "base_uri": "https://localhost:8080/"
        },
        "id": "ZpHKUS3U2PMc",
        "outputId": "fc7b5de1-7feb-4b37-c117-0135424bdc58"
      },
      "outputs": [
        {
          "output_type": "stream",
          "name": "stdout",
          "text": [
            "請輸入M？5\n",
            "3 階乘為 6 大於 5\n"
          ]
        }
      ],
      "source": [
        "M = int(input('請輸入M？'))\n",
        "fac = 1\n",
        "i = 1\n",
        "while(fac < M):\n",
        "    i = i + 1\n",
        "    fac = fac * i\n",
        "print(i,'階乘為', fac,'大於', M)"
      ]
    }
  ]
}