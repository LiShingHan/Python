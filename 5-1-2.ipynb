{
  "nbformat": 4,
  "nbformat_minor": 0,
  "metadata": {
    "colab": {
      "provenance": [],
      "authorship_tag": "ABX9TyM6oGGmU2WjE8u9FTwj95t5",
      "include_colab_link": true
    },
    "kernelspec": {
      "name": "python3",
      "display_name": "Python 3"
    },
    "language_info": {
      "name": "python"
    }
  },
  "cells": [
    {
      "cell_type": "markdown",
      "metadata": {
        "id": "view-in-github",
        "colab_type": "text"
      },
      "source": [
        "<a href=\"https://colab.research.google.com/github/LiShingHan/Python/blob/main/5-1-2.ipynb\" target=\"_parent\"><img src=\"https://colab.research.google.com/assets/colab-badge.svg\" alt=\"Open In Colab\"/></a>"
      ]
    },
    {
      "cell_type": "code",
      "execution_count": 1,
      "metadata": {
        "colab": {
          "base_uri": "https://localhost:8080/"
        },
        "id": "tOmgHlY0116Q",
        "outputId": "8d414fb6-e25d-48ea-914f-a84c38203eee"
      },
      "outputs": [
        {
          "output_type": "stream",
          "name": "stdout",
          "text": [
            "請輸入加總開始值？3\n",
            "請輸入加總終止值？20\n",
            "請輸入遞增減值？3\n",
            "i為 3 加總結果為 3\n",
            "i為 6 加總結果為 9\n",
            "i為 9 加總結果為 18\n",
            "i為 12 加總結果為 30\n",
            "i為 15 加總結果為 45\n",
            "i為 18 加總結果為 63\n"
          ]
        }
      ],
      "source": [
        "s = int(input('請輸入加總開始值？'))\n",
        "e = int(input('請輸入加總終止值？'))\n",
        "inc = int(input('請輸入遞增減值？'))\n",
        "sum = 0\n",
        "for i in range(s, e, inc):\n",
        "    sum = sum + i\n",
        "    print('i為', i, '加總結果為', sum)"
      ]
    }
  ]
}